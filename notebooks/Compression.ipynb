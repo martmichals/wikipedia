{
 "cells": [
  {
   "cell_type": "markdown",
   "id": "47d36219-62a4-41b1-ae1e-df06e8b856af",
   "metadata": {},
   "source": [
    "# Imports"
   ]
  },
  {
   "cell_type": "code",
   "execution_count": 4,
   "id": "693d05a1-00f1-44fc-b1ce-a8688dc49150",
   "metadata": {},
   "outputs": [],
   "source": [
    "import bz2\n",
    "import os.path as path"
   ]
  },
  {
   "cell_type": "markdown",
   "id": "7973ce7c-82d3-4f84-9fd9-39fe720d74f1",
   "metadata": {},
   "source": [
    "# Constants"
   ]
  },
  {
   "cell_type": "code",
   "execution_count": 27,
   "id": "b8e1e936-050f-4f7d-a2b4-a2a35b35d207",
   "metadata": {},
   "outputs": [],
   "source": [
    "DATA_DIR = '../data'"
   ]
  },
  {
   "cell_type": "markdown",
   "id": "535d050d-2383-490c-ad92-8a88d912a07d",
   "metadata": {},
   "source": [
    "# Functions"
   ]
  },
  {
   "cell_type": "code",
   "execution_count": 28,
   "id": "7a696a86-f7d0-4084-afa8-2724e3e0af8d",
   "metadata": {},
   "outputs": [
    {
     "data": {
      "text/plain": [
       "True"
      ]
     },
     "execution_count": 28,
     "metadata": {},
     "output_type": "execute_result"
    }
   ],
   "source": [
    "# Validate all compressed files are present data directory\n",
    "def validate_dump(data_dir, date='2021-10-20') -> bool:\n",
    "    # Check for existence of data directory\n",
    "    if not path.exists(dump_dir:=path.join(data_dir, date)):\n",
    "        print(f'{data_dir} does not exist!')\n",
    "        return False\n",
    "    \n",
    "    # Check for the existence of index and multistream data files\n",
    "    fname_base = f'enwiki-{date.replace(\"-\", \"\")}-pages-articles-multistream'\n",
    "    for fname_suffix in {'.xml', '-index.txt'}:\n",
    "        if not path.exists(fpath:=path.join(dump_dir, f'{fname_base}{fname_suffix}.bz2')):\n",
    "            print(f'{fpath} does not exist!')\n",
    "            return False\n",
    "        \n",
    "    # Files exist\n",
    "    return True\n",
    "\n",
    "# Validate \n",
    "validate_dump(DATA_DIR)"
   ]
  },
  {
   "cell_type": "markdown",
   "id": "cb8b9995-30e6-48fd-956d-b0e7abfc8e25",
   "metadata": {},
   "source": [
    "# Experimentation"
   ]
  },
  {
   "cell_type": "code",
   "execution_count": null,
   "id": "f372dc9c-3460-4e14-9713-8b8d5e10b7cd",
   "metadata": {
    "tags": []
   },
   "outputs": [],
   "source": [
    "# Loading index for files\n",
    "id2title = {}\n",
    "id2offset = {}\n",
    "fpath = path.join(DATA_DIR, '2021-10-20', 'enwiki-20211020-pages-articles-multistream-index.txt.bz2')\n",
    "with bz2.open(fpath, 'rt', encoding='utf-8') as index_file:\n",
    "    for line in index_file.readlines():\n",
    "        print(line)\n",
    "        break"
   ]
  }
 ],
 "metadata": {
  "kernelspec": {
   "display_name": "wikipedia",
   "language": "python",
   "name": "wikipedia"
  },
  "language_info": {
   "codemirror_mode": {
    "name": "ipython",
    "version": 3
   },
   "file_extension": ".py",
   "mimetype": "text/x-python",
   "name": "python",
   "nbconvert_exporter": "python",
   "pygments_lexer": "ipython3",
   "version": "3.10.9"
  }
 },
 "nbformat": 4,
 "nbformat_minor": 5
}
